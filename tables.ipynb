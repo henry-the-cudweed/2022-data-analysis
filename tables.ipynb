{
 "cells": [
  {
   "cell_type": "markdown",
   "metadata": {},
   "source": [
    "This codeblock creates a list of "
   ]
  },
  {
   "cell_type": "code",
   "execution_count": 97,
   "metadata": {},
   "outputs": [
    {
     "name": "stderr",
     "output_type": "stream",
     "text": [
      "C:\\Users\\henry.inman\\AppData\\Local\\Temp\\ipykernel_35564\\4250552129.py:31: FutureWarning: The frame.append method is deprecated and will be removed from pandas in a future version. Use pandas.concat instead.\n",
      "  df_append = df_grouplocnat_sum.append(df_grouploc_sum)\n",
      "C:\\Users\\henry.inman\\AppData\\Local\\Temp\\ipykernel_35564\\4250552129.py:37: FutureWarning: The frame.append method is deprecated and will be removed from pandas in a future version. Use pandas.concat instead.\n",
      "  df_append_sp = df_species.append(df_grouploc_sum_sp)\n"
     ]
    }
   ],
   "source": [
    "#This codeblock creates tables on a per nativity and per species basis, of the average number of hits\n",
    "# per quad in a plot-season, percentage of total hits per plot per plot-season\n",
    "\n",
    "#to-do \n",
    "#   replace append with concat\n",
    "\n",
    "import pandas as pd\n",
    "import numpy as np\n",
    "import openpyxl\n",
    "\n",
    "df = pd.read_csv('2022_A3.csv')\n",
    "\n",
    "df_grouploc_sum = df.groupby([\"EventGroupName\",\"LocationID\"]).sum().reset_index()\n",
    "df_grouplocnat_sum = df.groupby([\"EventGroupName\",\"LocationID\",\"nativity\"]).sum().reset_index()\n",
    "\n",
    "#setting up a species based analysis\n",
    "df_species = df.groupby([\"EventGroupName\",\"LocationID\",\"genus\",\"species\",\"nativity\"]).sum().reset_index()\n",
    "\n",
    "#creates a new dataframe with sums for each season-loc stored in rows where nativity = zTotal\n",
    "df_grouploc_sum.insert(3,\"nativity\",\"zTOTAL\",True)\n",
    "\n",
    "df_grouploc_sum_sp = df_grouploc_sum.copy()\n",
    "df_grouploc_sum_sp['genus'] = \"\"\n",
    "df_grouploc_sum_sp['species'] = \"\"\n",
    "\n",
    "\n",
    "#adds the values from the new dataframe, where I created the zTOTAL rows, \n",
    "#to the previous dataframe df_grouploc_sum which has sums per nativity per season-loc \n",
    "#cleans up the table so that there is one clear index\n",
    "df_append = df_grouplocnat_sum.append(df_grouploc_sum)\n",
    "df_append = df_append.reset_index()\n",
    "df_append = df_append.drop(['index'], axis=1)\n",
    "df_append_sort = df_append.sort_values([\"EventGroupName\",\"LocationID\",\"nativity\"]).reset_index().drop(['index'], axis=1)\n",
    "df2 = df_append_sort\n",
    "\n",
    "df_append_sp = df_species.append(df_grouploc_sum_sp)\n",
    "df_append_sp = df_append_sp.reset_index()\n",
    "df_append_sp = df_append_sp.drop(['index'], axis=1)\n",
    "df_append_sort_sp = df_append_sp.sort_values([\"EventGroupName\",\"LocationID\",\"nativity\"]).reset_index().drop(['index'], axis=1)\n",
    "df2_sp = df_append_sort_sp\n",
    "\n",
    "\n",
    "#creates the Total Column, AvgHitsInQuadrat Column showing the Average Hits per quadrat in each season-plot\n",
    "#and a PercentofTotalHits column showing the percent by nativity of hits in a quadrat\n",
    "df2['Total'] = df2['HitsInQuadrat'].where((df2['nativity'] == 'zTOTAL')).bfill()\n",
    "df2['AvgHitsInQuadrat'] = round((df2['HitsInQuadrat'] / 3),1)\n",
    "df2['PercentOfTotalHits'] = round((df2['HitsInQuadrat'] / df2['Total'])* 100,2)\n",
    "\n",
    "df2_sp['Total'] = df2_sp['HitsInQuadrat'].where((df2_sp['nativity'] == 'zTOTAL')).bfill()\n",
    "df2_sp['AvgHitsInQuadrat'] = round((df2_sp['HitsInQuadrat'] / 3),1)\n",
    "df2_sp['PercentOfTotalHits'] = round((df2_sp['HitsInQuadrat'] / df2_sp['Total'])* 100,2)\n",
    "\n",
    "\n",
    "\n",
    "### Column Organization ###\n",
    "df_col = df2.reindex(columns=['EventGroupName','LocationID','nativity','Dead','Unrooted','HitsInQuadrat','AvgHitsInQuadrat','Total','PercentOfTotalHits'])\n",
    "df_col_sp = df2_sp.reindex(columns=['EventGroupName','LocationID','genus','species','nativity','Dead','Unrooted','HitsInQuadrat','AvgHitsInQuadrat','Total','PercentOfTotalHits'])\n",
    "\n",
    "### Printing, Excel Sheet Creation ###\n",
    "\n",
    "df_col_sp.to_excel('df2_sp.xlsx')\n",
    "#print(df_species)\n",
    "#df_species.to_excel(\"df_species.xlsx\")\n",
    "#df_col.to_excel(\"df_col.xlsx\")\n",
    "#df.to_excel(\"2022_A3.xlsx\")\n",
    "#print(df_col)\n",
    "#df_append_sort.to_excel(\"df_append_sort.xlsx\")\n"
   ]
  }
 ],
 "metadata": {
  "kernelspec": {
   "display_name": "Python 3.10.7 64-bit",
   "language": "python",
   "name": "python3"
  },
  "language_info": {
   "codemirror_mode": {
    "name": "ipython",
    "version": 3
   },
   "file_extension": ".py",
   "mimetype": "text/x-python",
   "name": "python",
   "nbconvert_exporter": "python",
   "pygments_lexer": "ipython3",
   "version": "3.10.7"
  },
  "orig_nbformat": 4,
  "vscode": {
   "interpreter": {
    "hash": "369f2c481f4da34e4445cda3fffd2e751bd1c4d706f27375911949ba6bb62e1c"
   }
  }
 },
 "nbformat": 4,
 "nbformat_minor": 2
}
