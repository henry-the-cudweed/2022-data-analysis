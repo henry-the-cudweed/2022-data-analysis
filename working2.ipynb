{
 "cells": [
  {
   "cell_type": "code",
   "execution_count": null,
   "metadata": {},
   "outputs": [],
   "source": [
    "import pandas as pd\n",
    "import openpyxl\n",
    "\n",
    "df = pd.read_csv('2022_A3.csv')\n",
    "\n",
    "df_grouploc_sum = df.groupby([\"EventGroupName\",\"LocationID\"]).sum().reset_index()\n",
    "df_grouplocnat_sum = df.groupby([\"EventGroupName\",\"LocationID\",\"nativity\"]).sum().reset_index()\n",
    "\n",
    "\n",
    "df_grouploc_sum.insert(3,\"nativity\",\"zTOTAL\",True)\n",
    "#df_grouplocnat_sum.loc[len(df_grouplocnat_sum.index)] = [df_grouploc_sum\n",
    "\n",
    "\n",
    "df_append = df_grouplocnat_sum.append(df_grouploc_sum)\n",
    "df_append = df_append.reset_index()\n",
    "df_append = df_append.drop(['index'], axis=1)\n",
    "df_append_sort = df_append.sort_values([\"EventGroupName\",\"LocationID\",\"nativity\"]).reset_index().drop(['index'], axis=1)\n",
    "# something like the equation i want to build to, but i need to figure out the locs df_append_sort_col = df_grouploc_sum.insert(7,\"percent\",(loc.nativity/loc.['zTotal']),True)\n",
    "\n",
    "a = df_append_sort.loc[df_append_sort.EventGroupName == \"Spring_2020\"]\n",
    "\n",
    "\n",
    "print(a)\n",
    "df_append_sort.to_excel(\"df_append_sort.xlsx\")"
   ]
  }
 ],
 "metadata": {
  "kernelspec": {
   "display_name": "Python 3.10.7 64-bit",
   "language": "python",
   "name": "python3"
  },
  "language_info": {
   "name": "python",
   "version": "3.10.7"
  },
  "orig_nbformat": 4,
  "vscode": {
   "interpreter": {
    "hash": "369f2c481f4da34e4445cda3fffd2e751bd1c4d706f27375911949ba6bb62e1c"
   }
  }
 },
 "nbformat": 4,
 "nbformat_minor": 2
}
