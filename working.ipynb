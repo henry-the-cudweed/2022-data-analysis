{
 "cells": [
  {
   "cell_type": "code",
   "execution_count": 55,
   "metadata": {},
   "outputs": [
    {
     "name": "stdout",
     "output_type": "stream",
     "text": [
      "   EventGroupName  LocationID     nativity  Dead  Unrooted  HitsInQuadrat\n",
      "0     Spring_2020  MGP_01_HWY       NATIVE     0         0             24\n",
      "1     Spring_2020  MGP_01_HWY  NATURALIZED     0         0            158\n",
      "2     Spring_2020  MGP_01_HWY     NOTPLANT     0         0             29\n",
      "3     Spring_2020  MGP_01_HWY      UNKNOWN     0         0            103\n",
      "4     Spring_2020  MGP_01_HWY       zTOTAL     0         0            314\n",
      "5     Spring_2020  MGP_02_OLH       NATIVE     2         3             34\n",
      "6     Spring_2020  MGP_02_OLH  NATURALIZED     0         0            144\n",
      "7     Spring_2020  MGP_02_OLH     NOTPLANT     0         0             28\n",
      "8     Spring_2020  MGP_02_OLH      UNKNOWN     0         0             15\n",
      "9     Spring_2020  MGP_02_OLH       zTOTAL     2         3            221\n",
      "10    Spring_2020  MGP_03_POL       NATIVE     2         2             86\n",
      "11    Spring_2020  MGP_03_POL  NATURALIZED     0         0            198\n",
      "12    Spring_2020  MGP_03_POL     NOTPLANT     0         0             18\n",
      "13    Spring_2020  MGP_03_POL      UNKNOWN     0         0             25\n",
      "14    Spring_2020  MGP_03_POL       zTOTAL     2         2            327\n"
     ]
    }
   ],
   "source": [
    "import pandas as pd\n",
    "import openpyxl\n",
    "\n",
    "df = pd.read_csv('2022_A3.csv')\n",
    "\n",
    "df_grouploc_sum = df.groupby([\"EventGroupName\",\"LocationID\"]).sum().reset_index()\n",
    "df_grouplocnat_sum = df.groupby([\"EventGroupName\",\"LocationID\",\"nativity\"]).sum().reset_index()\n",
    "\n",
    "\n",
    "df_grouploc_sum.insert(3,\"nativity\",\"zTOTAL\",True)\n",
    "#df_grouplocnat_sum.loc[len(df_grouplocnat_sum.index)] = [df_grouploc_sum\n",
    "\n",
    "\n",
    "df_append = df_grouplocnat_sum.append(df_grouploc_sum)\n",
    "df_append = df_append.reset_index()\n",
    "df_append = df_append.drop(['index'], axis=1)\n",
    "df_append_sort = df_append.sort_values([\"EventGroupName\",\"LocationID\",\"nativity\"]).reset_index().drop(['index'], axis=1)\n",
    "# something like the equation i want to build to, but i need to figure out the locs df_append_sort_col = df_grouploc_sum.insert(7,\"percent\",(loc.nativity/loc.['zTotal']),True)\n",
    "\n",
    "a = df_append_sort.loc[df_append_sort.EventGroupName == \"Spring_2020\"]\n",
    "\n",
    "\n",
    "print(a)\n",
    "df_append_sort.to_excel(\"df_append_sort.xlsx\")\n"
   ]
  }
 ],
 "metadata": {
  "kernelspec": {
   "display_name": "Python 3.10.7 64-bit",
   "language": "python",
   "name": "python3"
  },
  "language_info": {
   "codemirror_mode": {
    "name": "ipython",
    "version": 3
   },
   "file_extension": ".py",
   "mimetype": "text/x-python",
   "name": "python",
   "nbconvert_exporter": "python",
   "pygments_lexer": "ipython3",
   "version": "3.10.7"
  },
  "orig_nbformat": 4,
  "vscode": {
   "interpreter": {
    "hash": "369f2c481f4da34e4445cda3fffd2e751bd1c4d706f27375911949ba6bb62e1c"
   }
  }
 },
 "nbformat": 4,
 "nbformat_minor": 2
}
